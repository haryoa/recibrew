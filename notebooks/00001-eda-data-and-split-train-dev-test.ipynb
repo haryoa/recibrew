{
 "cells": [
  {
   "cell_type": "markdown",
   "metadata": {},
   "source": [
    "# Explore and analyze the data "
   ]
  },
  {
   "cell_type": "code",
   "execution_count": 73,
   "metadata": {},
   "outputs": [],
   "source": [
    "import pandas as pd"
   ]
  },
  {
   "cell_type": "code",
   "execution_count": 74,
   "metadata": {},
   "outputs": [],
   "source": [
    "df = pd.read_csv(\"../data/raw/indonesia_food_recipe.csv\")"
   ]
  },
  {
   "cell_type": "code",
   "execution_count": 75,
   "metadata": {},
   "outputs": [
    {
     "data": {
      "text/plain": [
       "Index(['Title', 'Ingredients', 'Steps', 'Loves', 'URL', 'basic_ingredient'], dtype='object')"
      ]
     },
     "execution_count": 75,
     "metadata": {},
     "output_type": "execute_result"
    }
   ],
   "source": [
    "df.columns"
   ]
  },
  {
   "cell_type": "markdown",
   "metadata": {},
   "source": [
    "Since we want to seq2seq, define the target and source\n",
    "\n",
    "**source** : recipe title\n",
    "\n",
    "**target** : ingredients"
   ]
  },
  {
   "cell_type": "markdown",
   "metadata": {},
   "source": [
    "EDA and explore the data on:\n",
    "1. Number of tokens\n",
    "2. Number of unique tokens\n",
    "3. top 20 frequency unique tokens"
   ]
  },
  {
   "cell_type": "code",
   "execution_count": 76,
   "metadata": {},
   "outputs": [],
   "source": [
    "from exploda.explore import get_stat"
   ]
  },
  {
   "cell_type": "code",
   "execution_count": 27,
   "metadata": {},
   "outputs": [
    {
     "data": {
      "text/plain": [
       "0        1 ekor ayam kampung (potong 12)--2 buah jeruk ...\n",
       "1        1 kg ayam (dipotong sesuai selera jangan kecil...\n",
       "2        1/4 kg ayam--3 buah cabai hijau besar--7 buah ...\n",
       "3        250 gr daging ayam (saya pakai fillet)--secuku...\n",
       "4        400 gr kulit ayam & lemaknya--8 siung bawang p...\n",
       "                               ...                        \n",
       "13595    1 papan tempe--2 bawang putih--4 bawang merah-...\n",
       "13596    1 papan tempe--2-3 siung bawang putih--+ 1cm k...\n",
       "13597    1/4 papan tempe--11 lombok ijo--1 cabe rawit m...\n",
       "13598    tahu--tempe--bumbu:--2 bawang putih--4 bawang ...\n",
       "13599    500 gram bakal tempe--300 gram tepung tapioka-...\n",
       "Name: Ingredients, Length: 13600, dtype: object"
      ]
     },
     "execution_count": 27,
     "metadata": {},
     "output_type": "execute_result"
    }
   ],
   "source": [
    "df.Ingredients"
   ]
  },
  {
   "cell_type": "code",
   "execution_count": 77,
   "metadata": {},
   "outputs": [],
   "source": [
    "df.Ingredients = df.Ingredients.str.replace(r'--',r' || ')\n",
    "df.Ingredients = df.Ingredients.str.replace(r'([^a-zA-Z0-9|\\s])', r' \\1 ')\n",
    "df.Ingredients = df.Ingredients.str.replace(r'([0-9]+)([a-z]+)', r'\\1 \\2')  # separate such as '15gr', etc"
   ]
  },
  {
   "cell_type": "code",
   "execution_count": 78,
   "metadata": {},
   "outputs": [
    {
     "data": {
      "text/html": [
       "<div>\n",
       "<style scoped>\n",
       "    .dataframe tbody tr th:only-of-type {\n",
       "        vertical-align: middle;\n",
       "    }\n",
       "\n",
       "    .dataframe tbody tr th {\n",
       "        vertical-align: top;\n",
       "    }\n",
       "\n",
       "    .dataframe thead th {\n",
       "        text-align: right;\n",
       "    }\n",
       "</style>\n",
       "<table border=\"1\" class=\"dataframe\">\n",
       "  <thead>\n",
       "    <tr style=\"text-align: right;\">\n",
       "      <th></th>\n",
       "      <th>Title</th>\n",
       "      <th>Ingredients</th>\n",
       "      <th>Steps</th>\n",
       "      <th>Loves</th>\n",
       "      <th>URL</th>\n",
       "      <th>basic_ingredient</th>\n",
       "    </tr>\n",
       "  </thead>\n",
       "  <tbody>\n",
       "    <tr>\n",
       "      <th>0</th>\n",
       "      <td>ayam woku manado</td>\n",
       "      <td>1 ekor ayam kampung  ( potong 12 )  || 2 buah ...</td>\n",
       "      <td>Cuci bersih ayam dan tiriskan. Lalu peras jeru...</td>\n",
       "      <td>1</td>\n",
       "      <td>/id/resep/4473027-ayam-woku-manado</td>\n",
       "      <td>ayam</td>\n",
       "    </tr>\n",
       "    <tr>\n",
       "      <th>1</th>\n",
       "      <td>ayam goreng tulang lunak</td>\n",
       "      <td>1 kg ayam  ( dipotong sesuai selera jangan kec...</td>\n",
       "      <td>Haluskan bumbu2nya (BaPut, ketumbar, kemiri, k...</td>\n",
       "      <td>1</td>\n",
       "      <td>/id/resep/4471956-ayam-goreng-tulang-lunak</td>\n",
       "      <td>ayam</td>\n",
       "    </tr>\n",
       "    <tr>\n",
       "      <th>2</th>\n",
       "      <td>ayam cabai kawin</td>\n",
       "      <td>1 / 4 kg ayam || 3 buah cabai hijau besar || 7...</td>\n",
       "      <td>Panaskan minyak di dalam wajan. Setelah minyak...</td>\n",
       "      <td>2</td>\n",
       "      <td>/id/resep/4473057-ayam-cabai-kawin</td>\n",
       "      <td>ayam</td>\n",
       "    </tr>\n",
       "    <tr>\n",
       "      <th>3</th>\n",
       "      <td>ayam geprek</td>\n",
       "      <td>250 gr daging ayam  ( saya pakai fillet )  || ...</td>\n",
       "      <td>Goreng ayam seperti ayam krispi--Ulek semua ba...</td>\n",
       "      <td>10</td>\n",
       "      <td>/id/resep/4473023-ayam-geprek</td>\n",
       "      <td>ayam</td>\n",
       "    </tr>\n",
       "    <tr>\n",
       "      <th>4</th>\n",
       "      <td>minyak ayam</td>\n",
       "      <td>400 gr kulit ayam  &amp;  lemaknya || 8 siung bawa...</td>\n",
       "      <td>Cuci bersih kulit ayam. Sisihkan--Ambil 50 ml ...</td>\n",
       "      <td>4</td>\n",
       "      <td>/id/resep/4427438-minyak-ayam</td>\n",
       "      <td>ayam</td>\n",
       "    </tr>\n",
       "    <tr>\n",
       "      <th>...</th>\n",
       "      <td>...</td>\n",
       "      <td>...</td>\n",
       "      <td>...</td>\n",
       "      <td>...</td>\n",
       "      <td>...</td>\n",
       "      <td>...</td>\n",
       "    </tr>\n",
       "    <tr>\n",
       "      <th>13595</th>\n",
       "      <td>tempe mendol jawa timur</td>\n",
       "      <td>1 papan tempe || 2 bawang putih || 4 bawang me...</td>\n",
       "      <td>Siapkan bahan, tempe yg sudah dikukus (biar ng...</td>\n",
       "      <td>4</td>\n",
       "      <td>/id/resep/3944154-tempe-mendol-jawa-timur</td>\n",
       "      <td>tempe</td>\n",
       "    </tr>\n",
       "    <tr>\n",
       "      <th>13596</th>\n",
       "      <td>tempe goreng gurih</td>\n",
       "      <td>1 papan tempe || 2 - 3 siung bawang putih ||  ...</td>\n",
       "      <td>Potong sesuai selera tempe.--Kupas bawang puti...</td>\n",
       "      <td>2</td>\n",
       "      <td>/id/resep/3944200-tempe-goreng-gurih</td>\n",
       "      <td>tempe</td>\n",
       "    </tr>\n",
       "    <tr>\n",
       "      <th>13597</th>\n",
       "      <td>oseng tempe lombok ijo</td>\n",
       "      <td>1 / 4 papan tempe || 11 lombok ijo || 1 cabe r...</td>\n",
       "      <td>Potong tempe menurut selera.cuci tiriskan--Gor...</td>\n",
       "      <td>7</td>\n",
       "      <td>/id/resep/3943987-oseng-tempe-lombok-ijo</td>\n",
       "      <td>tempe</td>\n",
       "    </tr>\n",
       "    <tr>\n",
       "      <th>13598</th>\n",
       "      <td>tahu tempe bumbu kuning</td>\n",
       "      <td>tahu || tempe || bumbu :  || 2 bawang putih ||...</td>\n",
       "      <td>Uleg bumbu-bumbu lalu tumis masukan daun salam...</td>\n",
       "      <td>29</td>\n",
       "      <td>/id/resep/3943872-tahu-tempe-bumbu-kuning</td>\n",
       "      <td>tempe</td>\n",
       "    </tr>\n",
       "    <tr>\n",
       "      <th>13599</th>\n",
       "      <td>keripik tempe</td>\n",
       "      <td>500 gram bakal tempe || 300 gram tepung tapiok...</td>\n",
       "      <td>Langkah pertma remas bakal tempe dengan tapiok...</td>\n",
       "      <td>8</td>\n",
       "      <td>/id/resep/3942205-keripik-tempe</td>\n",
       "      <td>tempe</td>\n",
       "    </tr>\n",
       "  </tbody>\n",
       "</table>\n",
       "<p>13600 rows × 6 columns</p>\n",
       "</div>"
      ],
      "text/plain": [
       "                          Title  \\\n",
       "0              ayam woku manado   \n",
       "1      ayam goreng tulang lunak   \n",
       "2              ayam cabai kawin   \n",
       "3                   ayam geprek   \n",
       "4                   minyak ayam   \n",
       "...                         ...   \n",
       "13595   tempe mendol jawa timur   \n",
       "13596        tempe goreng gurih   \n",
       "13597    oseng tempe lombok ijo   \n",
       "13598   tahu tempe bumbu kuning   \n",
       "13599             keripik tempe   \n",
       "\n",
       "                                             Ingredients  \\\n",
       "0      1 ekor ayam kampung  ( potong 12 )  || 2 buah ...   \n",
       "1      1 kg ayam  ( dipotong sesuai selera jangan kec...   \n",
       "2      1 / 4 kg ayam || 3 buah cabai hijau besar || 7...   \n",
       "3      250 gr daging ayam  ( saya pakai fillet )  || ...   \n",
       "4      400 gr kulit ayam  &  lemaknya || 8 siung bawa...   \n",
       "...                                                  ...   \n",
       "13595  1 papan tempe || 2 bawang putih || 4 bawang me...   \n",
       "13596  1 papan tempe || 2 - 3 siung bawang putih ||  ...   \n",
       "13597  1 / 4 papan tempe || 11 lombok ijo || 1 cabe r...   \n",
       "13598  tahu || tempe || bumbu :  || 2 bawang putih ||...   \n",
       "13599  500 gram bakal tempe || 300 gram tepung tapiok...   \n",
       "\n",
       "                                                   Steps  Loves  \\\n",
       "0      Cuci bersih ayam dan tiriskan. Lalu peras jeru...      1   \n",
       "1      Haluskan bumbu2nya (BaPut, ketumbar, kemiri, k...      1   \n",
       "2      Panaskan minyak di dalam wajan. Setelah minyak...      2   \n",
       "3      Goreng ayam seperti ayam krispi--Ulek semua ba...     10   \n",
       "4      Cuci bersih kulit ayam. Sisihkan--Ambil 50 ml ...      4   \n",
       "...                                                  ...    ...   \n",
       "13595  Siapkan bahan, tempe yg sudah dikukus (biar ng...      4   \n",
       "13596  Potong sesuai selera tempe.--Kupas bawang puti...      2   \n",
       "13597  Potong tempe menurut selera.cuci tiriskan--Gor...      7   \n",
       "13598  Uleg bumbu-bumbu lalu tumis masukan daun salam...     29   \n",
       "13599  Langkah pertma remas bakal tempe dengan tapiok...      8   \n",
       "\n",
       "                                              URL basic_ingredient  \n",
       "0              /id/resep/4473027-ayam-woku-manado             ayam  \n",
       "1      /id/resep/4471956-ayam-goreng-tulang-lunak             ayam  \n",
       "2              /id/resep/4473057-ayam-cabai-kawin             ayam  \n",
       "3                   /id/resep/4473023-ayam-geprek             ayam  \n",
       "4                   /id/resep/4427438-minyak-ayam             ayam  \n",
       "...                                           ...              ...  \n",
       "13595   /id/resep/3944154-tempe-mendol-jawa-timur            tempe  \n",
       "13596        /id/resep/3944200-tempe-goreng-gurih            tempe  \n",
       "13597    /id/resep/3943987-oseng-tempe-lombok-ijo            tempe  \n",
       "13598   /id/resep/3943872-tahu-tempe-bumbu-kuning            tempe  \n",
       "13599             /id/resep/3942205-keripik-tempe            tempe  \n",
       "\n",
       "[13600 rows x 6 columns]"
      ]
     },
     "execution_count": 78,
     "metadata": {},
     "output_type": "execute_result"
    }
   ],
   "source": [
    "df"
   ]
  },
  {
   "cell_type": "code",
   "execution_count": 30,
   "metadata": {},
   "outputs": [],
   "source": [
    "import re"
   ]
  },
  {
   "cell_type": "markdown",
   "metadata": {},
   "source": [
    "Ingredients:"
   ]
  },
  {
   "cell_type": "code",
   "execution_count": 47,
   "metadata": {},
   "outputs": [
    {
     "name": "stderr",
     "output_type": "stream",
     "text": [
      "[nltk_data] Downloading package punkt to\n",
      "[nltk_data]     C:\\Users\\HaryoAW\\AppData\\Roaming\\nltk_data...\n",
      "[nltk_data]   Package punkt is already up-to-date!\n"
     ]
    },
    {
     "name": "stdout",
     "output_type": "stream",
     "text": [
      "Exploring get_total_instances\n",
      "Exploring get_value_counts_column_and_unique_token\n",
      "Processing...\n",
      "Need Tokenizing with nltk.word_tokenize\n",
      "Tokenizing done\n",
      "Exploring get_sum_count_token\n",
      "Processing...\n",
      "Exploring get_stat_token\n",
      "Processing...\n",
      "== Complete ==\n"
     ]
    }
   ],
   "source": [
    "result = get_stat(df, 'Ingredients', ['get_total_instances', 'get_value_counts_column_and_unique_token', 'get_sum_count_token',\n",
    "                                      'get_stat_token'])\n"
   ]
  },
  {
   "cell_type": "code",
   "execution_count": 48,
   "metadata": {},
   "outputs": [],
   "source": [
    "from pprint import pprint"
   ]
  },
  {
   "cell_type": "code",
   "execution_count": 49,
   "metadata": {},
   "outputs": [
    {
     "data": {
      "text/plain": [
       "dict_keys(['get_total_instances', 'get_value_counts_column_and_unique_token', 'get_sum_count_token', 'get_stat_token'])"
      ]
     },
     "execution_count": 49,
     "metadata": {},
     "output_type": "execute_result"
    }
   ],
   "source": [
    "result.keys()"
   ]
  },
  {
   "cell_type": "code",
   "execution_count": 50,
   "metadata": {},
   "outputs": [
    {
     "data": {
      "text/plain": [
       "{'count': 13600.0,\n",
       " 'mean': 67.5972794117647,\n",
       " 'std': 31.09545340626558,\n",
       " 'min': 6.0,\n",
       " '25%': 46.0,\n",
       " '50%': 62.0,\n",
       " '75%': 84.0,\n",
       " 'max': 357.0}"
      ]
     },
     "execution_count": 50,
     "metadata": {},
     "output_type": "execute_result"
    }
   ],
   "source": [
    "result['get_stat_token']['stat']"
   ]
  },
  {
   "cell_type": "code",
   "execution_count": 34,
   "metadata": {},
   "outputs": [
    {
     "name": "stdout",
     "output_type": "stream",
     "text": [
      "total_instance :  13600\n",
      "total token :  919323\n",
      "unique token :  6929\n"
     ]
    }
   ],
   "source": [
    "print('total_instance : ', result['get_total_instances'])\n",
    "print('total token : ', result['get_sum_count_token'])\n",
    "print('unique token : ', result['get_value_counts_column_and_unique_token']['total_unique'])"
   ]
  },
  {
   "cell_type": "code",
   "execution_count": 35,
   "metadata": {},
   "outputs": [],
   "source": [
    "list_word = [ (k, v) for k,v in result['get_value_counts_column_and_unique_token']['value_counts'].items() if k.isalnum() ]"
   ]
  },
  {
   "cell_type": "code",
   "execution_count": 36,
   "metadata": {},
   "outputs": [
    {
     "data": {
      "text/plain": [
       "[('1', 48903),\n",
       " ('2', 30534),\n",
       " ('bawang', 27729),\n",
       " ('secukupnya', 20039),\n",
       " ('merah', 16548),\n",
       " ('buah', 15676),\n",
       " ('siung', 14954),\n",
       " ('putih', 14403),\n",
       " ('3', 13590),\n",
       " ('garam', 12228),\n",
       " ('sdm', 11257),\n",
       " ('daun', 10905),\n",
       " ('4', 10013),\n",
       " ('sdt', 9542),\n",
       " ('cabe', 9451),\n",
       " ('5', 9141),\n",
       " ('gula', 7777),\n",
       " ('bumbu', 6922),\n",
       " ('air', 6892),\n",
       " ('iris', 6244)]"
      ]
     },
     "execution_count": 36,
     "metadata": {},
     "output_type": "execute_result"
    }
   ],
   "source": [
    "list_word[:20]"
   ]
  },
  {
   "cell_type": "markdown",
   "metadata": {},
   "source": [
    "Recipe Title"
   ]
  },
  {
   "cell_type": "code",
   "execution_count": 37,
   "metadata": {},
   "outputs": [
    {
     "name": "stdout",
     "output_type": "stream",
     "text": [
      "Exploring get_total_instances\n",
      "Exploring get_value_counts_column_and_unique_token\n",
      "Processing...\n",
      "Need Tokenizing with nltk.word_tokenize\n"
     ]
    },
    {
     "name": "stderr",
     "output_type": "stream",
     "text": [
      "[nltk_data] Downloading package punkt to\n",
      "[nltk_data]     C:\\Users\\HaryoAW\\AppData\\Roaming\\nltk_data...\n",
      "[nltk_data]   Package punkt is already up-to-date!\n"
     ]
    },
    {
     "name": "stdout",
     "output_type": "stream",
     "text": [
      "Tokenizing done\n",
      "Exploring get_sum_count_token\n",
      "Processing...\n",
      "== Complete ==\n"
     ]
    }
   ],
   "source": [
    "result2 = get_stat(df, 'Title', ['get_total_instances', 'get_value_counts_column_and_unique_token', 'get_sum_count_token'])\n"
   ]
  },
  {
   "cell_type": "code",
   "execution_count": 38,
   "metadata": {},
   "outputs": [
    {
     "name": "stdout",
     "output_type": "stream",
     "text": [
      "total_instance :  13600\n",
      "total token :  55904\n",
      "unique token :  4072\n"
     ]
    }
   ],
   "source": [
    "print('total_instance : ', result2['get_total_instances'])\n",
    "print('total token : ', result2['get_sum_count_token'])\n",
    "print('unique token : ', result2['get_value_counts_column_and_unique_token']['total_unique'])\n",
    "list_word = [ (k, v) for k,v in result2['get_value_counts_column_and_unique_token']['value_counts'].items() if k.isalnum() ]"
   ]
  },
  {
   "cell_type": "code",
   "execution_count": 39,
   "metadata": {},
   "outputs": [
    {
     "data": {
      "text/plain": [
       "[('tahu', 2557),\n",
       " ('tempe', 2269),\n",
       " ('ayam', 1999),\n",
       " ('telur', 1768),\n",
       " ('sapi', 1611),\n",
       " ('kambing', 1442),\n",
       " ('goreng', 1000),\n",
       " ('daging', 928),\n",
       " ('ikan', 842),\n",
       " ('tumis', 748),\n",
       " ('pedas', 733),\n",
       " ('bumbu', 607),\n",
       " ('ala', 572),\n",
       " ('kecap', 485),\n",
       " ('telor', 453),\n",
       " ('balado', 434),\n",
       " ('sambal', 428),\n",
       " ('dan', 426),\n",
       " ('sate', 417),\n",
       " ('beef', 406)]"
      ]
     },
     "execution_count": 39,
     "metadata": {},
     "output_type": "execute_result"
    }
   ],
   "source": [
    "list_word[:20]"
   ]
  },
  {
   "cell_type": "markdown",
   "metadata": {},
   "source": [
    "# Filter Ingredients which has token length >= 140"
   ]
  },
  {
   "cell_type": "code",
   "execution_count": 79,
   "metadata": {},
   "outputs": [],
   "source": [
    "from nltk.tokenize import word_tokenize"
   ]
  },
  {
   "cell_type": "code",
   "execution_count": 80,
   "metadata": {},
   "outputs": [],
   "source": [
    "len_ingred = df.Ingredients.apply(lambda x : len(x.split()))"
   ]
  },
  {
   "cell_type": "code",
   "execution_count": 81,
   "metadata": {},
   "outputs": [],
   "source": [
    "df = df[len_ingred <= 120]"
   ]
  },
  {
   "cell_type": "markdown",
   "metadata": {},
   "source": [
    "## Split into train dev test\n",
    "\n",
    "I Decided to split into 80 10 10 (based on basic_ingredients)"
   ]
  },
  {
   "cell_type": "markdown",
   "metadata": {},
   "source": [
    "Basic ingredients are as follow"
   ]
  },
  {
   "cell_type": "code",
   "execution_count": 82,
   "metadata": {},
   "outputs": [
    {
     "data": {
      "text/plain": [
       "array(['ayam', 'ikan', 'kambing', 'sapi', 'tahu', 'telur', 'tempe'],\n",
       "      dtype=object)"
      ]
     },
     "execution_count": 82,
     "metadata": {},
     "output_type": "execute_result"
    }
   ],
   "source": [
    "df['basic_ingredient'].unique()"
   ]
  },
  {
   "cell_type": "code",
   "execution_count": 83,
   "metadata": {},
   "outputs": [
    {
     "data": {
      "text/plain": [
       "tempe      1958\n",
       "telur      1931\n",
       "tahu       1931\n",
       "ikan       1858\n",
       "ayam       1772\n",
       "sapi       1760\n",
       "kambing    1590\n",
       "Name: basic_ingredient, dtype: int64"
      ]
     },
     "execution_count": 83,
     "metadata": {},
     "output_type": "execute_result"
    }
   ],
   "source": [
    "df['basic_ingredient'].value_counts()"
   ]
  },
  {
   "cell_type": "code",
   "execution_count": 84,
   "metadata": {},
   "outputs": [],
   "source": [
    "from sklearn.model_selection import train_test_split"
   ]
  },
  {
   "cell_type": "code",
   "execution_count": 85,
   "metadata": {},
   "outputs": [],
   "source": [
    "df = df[['Title','Ingredients','basic_ingredient']]\n",
    "df.columns = ['src','tgt','basic_ingredient']"
   ]
  },
  {
   "cell_type": "code",
   "execution_count": 86,
   "metadata": {},
   "outputs": [],
   "source": [
    "train_df, remainder_df, _, _ = train_test_split(df, df['basic_ingredient'], test_size=0.2, random_state=234)\n",
    "dev_df, test_df, _, _ = train_test_split(remainder_df, remainder_df['basic_ingredient'], test_size=0.5, random_state=345)"
   ]
  },
  {
   "cell_type": "code",
   "execution_count": 87,
   "metadata": {},
   "outputs": [],
   "source": [
    "train_df.to_csv('../data/processed/train.csv',index_label='no')\n",
    "dev_df.to_csv('../data/processed/dev.csv', index_label='no')\n",
    "test_df.to_csv('../data/processed/test.csv', index_label='no')"
   ]
  },
  {
   "cell_type": "code",
   "execution_count": null,
   "metadata": {},
   "outputs": [],
   "source": []
  }
 ],
 "metadata": {
  "kernelspec": {
   "display_name": "Python 3",
   "language": "python",
   "name": "python3"
  },
  "language_info": {
   "codemirror_mode": {
    "name": "ipython",
    "version": 3
   },
   "file_extension": ".py",
   "mimetype": "text/x-python",
   "name": "python",
   "nbconvert_exporter": "python",
   "pygments_lexer": "ipython3",
   "version": "3.8.3"
  }
 },
 "nbformat": 4,
 "nbformat_minor": 4
}
