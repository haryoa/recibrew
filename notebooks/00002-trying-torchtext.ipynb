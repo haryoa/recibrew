{
 "cells": [
  {
   "cell_type": "code",
   "execution_count": null,
   "metadata": {},
   "outputs": [],
   "source": [
    "%load_ext autoreload\n",
    "%autoreload 2"
   ]
  },
  {
   "cell_type": "code",
   "execution_count": 24,
   "metadata": {},
   "outputs": [],
   "source": [
    "import sys"
   ]
  },
  {
   "cell_type": "code",
   "execution_count": 25,
   "metadata": {},
   "outputs": [],
   "source": [
    "sys.path.append(\"..\")"
   ]
  },
  {
   "cell_type": "code",
   "execution_count": null,
   "metadata": {},
   "outputs": [],
   "source": [
    "import pandas as pd"
   ]
  },
  {
   "cell_type": "code",
   "execution_count": null,
   "metadata": {},
   "outputs": [],
   "source": [
    "from torchtext.data import Field"
   ]
  },
  {
   "cell_type": "code",
   "execution_count": null,
   "metadata": {},
   "outputs": [],
   "source": [
    "from nltk.tokenize import word_tokenize"
   ]
  },
  {
   "cell_type": "code",
   "execution_count": null,
   "metadata": {},
   "outputs": [],
   "source": [
    "src_field = Field(sequential=True, tokenize=word_tokenize, lower=True, init_token='<s>', eos_token='</s>')\n",
    "tgt_field = Field(sequential=True, tokenize=word_tokenize, lower=True, init_token='<s>', eos_token='</s>')"
   ]
  },
  {
   "cell_type": "code",
   "execution_count": null,
   "metadata": {},
   "outputs": [],
   "source": [
    "from torchtext.data import TabularDataset"
   ]
  },
  {
   "cell_type": "code",
   "execution_count": 16,
   "metadata": {},
   "outputs": [],
   "source": [
    "fields = [('no', None), ('src',src_field), (\"tgt\", tgt_field)]"
   ]
  },
  {
   "cell_type": "code",
   "execution_count": 17,
   "metadata": {},
   "outputs": [],
   "source": [
    "train_csv = '../data/processed/train.csv'\n",
    "dev_csv = '../data/processed/dev.csv'\n",
    "test_csv = '../data/processed/test.csv'"
   ]
  },
  {
   "cell_type": "code",
   "execution_count": 18,
   "metadata": {},
   "outputs": [],
   "source": [
    "train_ds, dev_ds, test_ds = TabularDataset.splits(path='.', format='csv', train=train_csv, validation=dev_csv, test=test_csv, skip_header=True,\n",
    "                                                  fields=fields)"
   ]
  },
  {
   "cell_type": "code",
   "execution_count": 19,
   "metadata": {},
   "outputs": [],
   "source": [
    "src_field.build_vocab(train_ds)\n",
    "tgt_field.build_vocab(train_ds)"
   ]
  },
  {
   "cell_type": "code",
   "execution_count": 20,
   "metadata": {},
   "outputs": [
    {
     "data": {
      "text/plain": [
       "[('tahu', 2033),\n",
       " ('tempe', 1820),\n",
       " ('ayam', 1518),\n",
       " ('telur', 1382),\n",
       " ('sapi', 1251),\n",
       " ('kambing', 1081),\n",
       " ('goreng', 796),\n",
       " ('daging', 699),\n",
       " ('ikan', 642),\n",
       " ('tumis', 589)]"
      ]
     },
     "execution_count": 20,
     "metadata": {},
     "output_type": "execute_result"
    }
   ],
   "source": [
    "src_field.vocab.freqs.most_common(10)"
   ]
  },
  {
   "cell_type": "code",
   "execution_count": 21,
   "metadata": {},
   "outputs": [
    {
     "data": {
      "text/plain": [
       "[('||', 128606),\n",
       " ('1', 36514),\n",
       " ('2', 22752),\n",
       " ('bawang', 21257),\n",
       " ('secukupnya', 15377),\n",
       " ('merah', 12694),\n",
       " ('buah', 11797),\n",
       " ('(', 11531),\n",
       " ('siung', 11488),\n",
       " (')', 11458)]"
      ]
     },
     "execution_count": 21,
     "metadata": {},
     "output_type": "execute_result"
    }
   ],
   "source": [
    "tgt_field.vocab.freqs.most_common(10)"
   ]
  },
  {
   "cell_type": "code",
   "execution_count": 22,
   "metadata": {},
   "outputs": [],
   "source": [
    "from torchtext.data import Iterator, BucketIterator"
   ]
  },
  {
   "cell_type": "code",
   "execution_count": 23,
   "metadata": {},
   "outputs": [],
   "source": [
    "train_iter, val_iter, test_iter = BucketIterator.splits(\n",
    "        (train_ds, dev_ds, test_ds), # we pass in the datasets we want the iterator to draw data from\n",
    "        batch_sizes=(64, 64, 64),\n",
    "        device='cuda', # if you want to use the GPU, specify the GPU number here\n",
    "        sort_key=lambda x: len(x.src), # the BucketIterator needs to be told what function it should use to group the data.\n",
    "        sort_within_batch=False,\n",
    ")"
   ]
  },
  {
   "cell_type": "markdown",
   "metadata": {},
   "source": [
    "# Combine them all\n",
    "In recibrew.data_util.construct_torchtext_iterator"
   ]
  },
  {
   "cell_type": "code",
   "execution_count": 26,
   "metadata": {},
   "outputs": [],
   "source": [
    "from recibrew.data_util import construct_torchtext_iterator"
   ]
  },
  {
   "cell_type": "code",
   "execution_count": 28,
   "metadata": {},
   "outputs": [],
   "source": [
    "train_csv = '../data/processed/train.csv'\n",
    "dev_csv = '../data/processed/dev.csv'\n",
    "test_csv = '../data/processed/test.csv'\n",
    "train_iter, dev_iter, test_iter = construct_torchtext_iterator(train_csv, dev_csv, test_csv)"
   ]
  },
  {
   "cell_type": "code",
   "execution_count": null,
   "metadata": {},
   "outputs": [],
   "source": []
  }
 ],
 "metadata": {
  "kernelspec": {
   "display_name": "Python 3",
   "language": "python",
   "name": "python3"
  },
  "language_info": {
   "codemirror_mode": {
    "name": "ipython",
    "version": 3
   },
   "file_extension": ".py",
   "mimetype": "text/x-python",
   "name": "python",
   "nbconvert_exporter": "python",
   "pygments_lexer": "ipython3",
   "version": "3.8.3"
  }
 },
 "nbformat": 4,
 "nbformat_minor": 4
}
