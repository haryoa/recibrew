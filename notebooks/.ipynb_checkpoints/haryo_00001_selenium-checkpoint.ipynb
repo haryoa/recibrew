{
 "cells": [
  {
   "cell_type": "code",
   "execution_count": 1,
   "metadata": {},
   "outputs": [],
   "source": [
    "from selenium import webdriver\n",
    "from selenium.webdriver.firefox.options import Options\n",
    "from selenium.webdriver.common.keys import Keys\n",
    "import pandas as pd"
   ]
  },
  {
   "cell_type": "code",
   "execution_count": 30,
   "metadata": {},
   "outputs": [],
   "source": []
  },
  {
   "cell_type": "markdown",
   "metadata": {},
   "source": [
    "# Coba cookpad"
   ]
  },
  {
   "cell_type": "code",
   "execution_count": 108,
   "metadata": {},
   "outputs": [],
   "source": [
    "print(\"meong\") if False else None"
   ]
  },
  {
   "cell_type": "code",
   "execution_count": 2,
   "metadata": {},
   "outputs": [],
   "source": [
    "def write_into_jsonl_files(file: str, content: dict):\n",
    "    import jsonlines\n",
    "    with jsonlines.open(file, mode='a') as writer:\n",
    "        writer.write(content)\n",
    "\n",
    "def write_normal_txt_files(file: str, content: str):\n",
    "    with open(file, mode='a') as writer:\n",
    "        writer.write(content + '\\n')"
   ]
  },
  {
   "cell_type": "code",
   "execution_count": 3,
   "metadata": {},
   "outputs": [],
   "source": [
    "class SeleniumCrawlOption(object):\n",
    "    \n",
    "    default_opt = {\n",
    "        'limit' : 1000,\n",
    "        'sleep_time' : 2,\n",
    "        'file_output_type' : 'jsonl',\n",
    "        'file_output_path' : 'tweets.jsonl'\n",
    "    }\n",
    "    \n",
    "    def __init__(self, **args):\n",
    "        self.limit = args['limit'] if 'limit' in args else self.default_opt['limit']\n",
    "        self.sleep_time = args['sleep_time'] if 'sleep_time' in args else self.default_opt['sleep_time']\n",
    "        self.file_output_type = args['file_output_type'] if 'file_output_type' in args else self.default_opt['file_output_type']\n",
    "        self.file_output_path = args['file_output_path'] if 'file_output_path' in args else self.default_opt['file_output_path']\n",
    "\n",
    "class BaseSeleniumCrawler(object):\n",
    "    \n",
    "    def __init__(self, crawl_ops: SeleniumCrawlOption, browser:str = 'firefox', \n",
    "                 driver_path:str = None, headless:bool = False):\n",
    "        self.browser = browser.lower()\n",
    "        if browser.lower() == 'firefox':\n",
    "            assert driver_path is not None\n",
    "            self.ops = Options()\n",
    "            self.driver_path = driver_path\n",
    "            ops.add_argument(\"-headless\") if headless else None\n",
    "            self._init_driver()\n",
    "        else:\n",
    "            raise NotImplementedError()\n",
    "        self.crawl_ops = crawl_ops\n",
    "    \n",
    "    def _init_driver(self):\n",
    "        if self.browser == 'firefox':\n",
    "            self.driver = webdriver.Firefox(executable_path=self.driver_path, options=self.ops)\n",
    "        \n",
    "    def crawl(self, start_webpage, crawl_args: SeleniumCrawlOption = SeleniumCrawlOption,\n",
    "              output_file='jsonl', output_type='jsonl'):\n",
    "        raise NotImplementedError\n",
    "    \n",
    "    def _scrape(self):\n",
    "        raise NotImplementedError\n",
    "    \n",
    "    def _get_next_url(self):\n",
    "        raise NotImplementedError\n",
    "    \n",
    "    def _write_result(self, content) -> str:\n",
    "        if self.crawl_ops.file_output_type == 'jsonl':\n",
    "            write_into_jsonl_files(self.crawl_ops.file_output_path + 'output.jsonl', content)\n"
   ]
  },
  {
   "cell_type": "code",
   "execution_count": 225,
   "metadata": {},
   "outputs": [
    {
     "data": {
      "text/plain": [
       "1569774970.1472015"
      ]
     },
     "execution_count": 225,
     "metadata": {},
     "output_type": "execute_result"
    }
   ],
   "source": [
    "time.time()"
   ]
  },
  {
   "cell_type": "code",
   "execution_count": 33,
   "metadata": {},
   "outputs": [],
   "source": [
    "import time\n",
    "import traceback\n",
    "class CookpadSelector():\n",
    "    title_recipe = 'h1.recipe-title'\n",
    "    description_recipe = 'div.recipe-show__story'\n",
    "    ingredient_recipe = 'li.ingredient'\n",
    "    step_recipe = 'div.step__description'\n",
    "    list_url_scrape = 'a.media'\n",
    "    next_page_url = 'a.pagination__next'\n",
    "\n",
    "class CookpadSeleniumCrawler(BaseSeleniumCrawler):\n",
    "    \n",
    "    def __init__(self,crawl_ops: SeleniumCrawlOption, browser:str = 'firefox', \n",
    "                 driver_path:str = None, headless:bool = False):\n",
    "        super().__init__(crawl_ops, browser, driver_path, headless)\n",
    "        \n",
    "    def crawl(self, start_webpage, crawl_args: SeleniumCrawlOption = SeleniumCrawlOption,\n",
    "              output_file='jsonl', output_type='jsonl'):\n",
    "        # Start\n",
    "        self.driver.get(start_webpage)\n",
    "        self.start_webpage = start_webpage\n",
    "        print(self.crawl_ops.limit)\n",
    "        try:\n",
    "            self._count_scraped = 0\n",
    "            while self._count_scraped < self.crawl_ops.limit:\n",
    "                self._set_list_scrapped_url()\n",
    "                next_url = self._get_next_url()\n",
    "                write_normal_txt_files(self.crawl_ops.file_output_path + 'checkpoint.txt', next_url)\n",
    "\n",
    "                self._scrape()\n",
    "                print(\"Next to {}\".format(next_url))\n",
    "                print(\"Scrapped {} times\".format(self._count_scraped))\n",
    "\n",
    "                self.driver.get(next_url)\n",
    "        except Exception as e:\n",
    "            traceback.print_exc()\n",
    "        finally:\n",
    "            self.driver.close()\n",
    "        \n",
    "\n",
    "    def _trick_avoid_get_banned(self):\n",
    "        import time\n",
    "        self.driver.delete_all_cookies() # avoid getting banned\n",
    "        time.sleep(self.crawl_ops.sleep_time) # avoid getting banned\n",
    "    \n",
    "    def _scrape(self):\n",
    "        while len(self._list_scraped_url) > 0 and self._count_scraped < self.crawl_ops.limit:\n",
    "            site_recipe = self._list_scraped_url.pop()\n",
    "            self.driver.get(site_recipe)\n",
    "            self._trick_avoid_get_banned()\n",
    "            try:\n",
    "                content = self._scrape_get_content(site_recipe)\n",
    "            except:\n",
    "                from selenium.webdriver.common.action_chains import ActionChains\n",
    "                # Skip\n",
    "                print(\"Light banned, need to click the bot clicker\")\n",
    "                elemnt = crawler_cookpad.driver.find_element_by_css_selector('html')\n",
    "                clicker = ActionChains(crawler_cookpad.driver)\n",
    "                clicker.click_and_hold(elemnt).perform()\n",
    "                time.sleep(5)\n",
    "#                 self.driver.close()\n",
    "#                 self._init_driver()\n",
    "            self._write_result(content)\n",
    "            # Write checkpoint\n",
    "            self._count_scraped += 1\n",
    "    \n",
    "    def _scrape_get_content(self, site_recipe) -> dict:\n",
    "        print(\"Crawled {}\".format(site_recipe))\n",
    "        title_recipe = self.driver.find_element_by_css_selector(CookpadSelector.title_recipe).text\n",
    "        description_recipe = self.driver.find_element_by_css_selector(CookpadSelector.description_recipe).text\n",
    "        ingredient_recipe = list(map(lambda x : x.text, self.driver.find_elements_by_css_selector(CookpadSelector.ingredient_recipe)))\n",
    "        step_recipe = list(map(lambda x : x.text, self.driver.find_elements_by_css_selector(CookpadSelector.step_recipe)))\n",
    "        return {'title' : title_recipe, \n",
    "                  'description' : description_recipe, \n",
    "                  'ingredient' : ingredient_recipe,\n",
    "                  'step' : step_recipe,\n",
    "                  'link' : site_recipe,\n",
    "                  'timestamps' : time.time(),\n",
    "                   'start' : self.start_webpage}\n",
    "        \n",
    "    def _set_list_scrapped_url(self):\n",
    "        link_to_recipe = self.driver.find_elements_by_css_selector(CookpadSelector.list_url_scrape)\n",
    "        self._list_scraped_url = list(set(map(lambda x : x.get_attribute('href'), link_to_recipe)))\n",
    "    \n",
    "    def _get_next_url(self) -> str:\n",
    "        return self.driver.find_element_by_css_selector(CookpadSelector.next_page_url).get_attribute('href')"
   ]
  },
  {
   "cell_type": "code",
   "execution_count": null,
   "metadata": {},
   "outputs": [],
   "source": []
  },
  {
   "cell_type": "code",
   "execution_count": null,
   "metadata": {},
   "outputs": [
    {
     "name": "stdout",
     "output_type": "stream",
     "text": [
      "1000\n",
      "Crawled https://cookpad.com/id/resep/10653666-gulai-kikil\n",
      "Crawled https://cookpad.com/id/resep/10749826-dendeng-balado\n",
      "Crawled https://cookpad.com/id/resep/10667748-kentang-balado\n",
      "Crawled https://cookpad.com/id/resep/10748878-terong-balado-simple-pedas\n",
      "Crawled https://cookpad.com/id/resep/10683005-gulai-ayam-padang\n",
      "Crawled https://cookpad.com/id/resep/10754294-gulai-ayam-%F0%9F%90%93%F0%9F%90%94%F0%9F%90%A4%F0%9F%90%A3\n",
      "Crawled https://cookpad.com/id/resep/10754805-gulai-jengkol\n",
      "Crawled https://cookpad.com/id/resep/10754902-udang-saos-padang\n",
      "Crawled https://cookpad.com/id/resep/10754276-gulai-ayam-kentang\n",
      "Crawled https://cookpad.com/id/resep/10754766-kepiting-saos-padang-resep-sesuai-selera-saya\n",
      "Crawled https://cookpad.com/id/resep/10755188-gule-kepala-kakap\n",
      "Crawled https://cookpad.com/id/resep/10754356-keripik-balado-udang\n",
      "Crawled https://cookpad.com/id/resep/10755531-sapi-balado-extra-pedas-non-msg\n",
      "Crawled https://cookpad.com/id/resep/10755921-gulai-asam-ikan-kembung\n",
      "Crawled https://cookpad.com/id/resep/10754530-gulai-nangka-sederhana-ala-momsal\n",
      "Crawled https://cookpad.com/id/resep/10734025-balado-telor\n",
      "Crawled https://cookpad.com/id/resep/10754370-sambal-lado-tanak\n",
      "Crawled https://cookpad.com/id/resep/10755635-sayur-gulai-daging-tempe-wortel-labu-kentang\n",
      "Crawled https://cookpad.com/id/resep/10756191-sambalado-hijau\n",
      "Crawled https://cookpad.com/id/resep/10755898-nila-bakar-bumbu-kalio\n",
      "Next to https://cookpad.com/id/cari/masakan%20padang?page=4\n",
      "Scrapped 20 times\n",
      "Crawled https://cookpad.com/id/resep/10747827-balado-jeng-trie\n",
      "Crawled https://cookpad.com/id/resep/10750123-telur-balado\n",
      "Crawled https://cookpad.com/id/resep/10748737-balado-ikan-pindang\n",
      "Crawled https://cookpad.com/id/resep/9847588-gulai-kikil-nangka-muda\n",
      "Crawled https://cookpad.com/id/resep/10748854-terong-hati-ayam-balado\n",
      "Crawled https://cookpad.com/id/resep/10748401-jengkol-cue-balado\n",
      "Crawled https://cookpad.com/id/resep/10747653-balado-ikan-patin\n",
      "Crawled https://cookpad.com/id/resep/10747856-balado-ikan-cue\n",
      "Crawled https://cookpad.com/id/resep/10747610-39-ayam-balado\n",
      "Crawled https://cookpad.com/id/resep/10748303-gulai-kuning-ikan-patin-tahu\n",
      "Crawled https://cookpad.com/id/resep/10750857-telur-kentang-balado-pete\n",
      "Crawled https://cookpad.com/id/resep/10747847-telur-tempe-tahu-balado\n",
      "Crawled https://cookpad.com/id/resep/10742476-terong-balado\n",
      "Crawled https://cookpad.com/id/resep/10751413-ayam-saos-padang\n",
      "Crawled https://cookpad.com/id/resep/10735127-gulai-iga-madura\n",
      "Crawled https://cookpad.com/id/resep/10754006-ikan-gurame-saos-padang\n",
      "Crawled https://cookpad.com/id/resep/10747854-balado-dendeng-sapi\n",
      "Crawled https://cookpad.com/id/resep/10747481-pangek-masin-ikan-nila\n",
      "Crawled https://cookpad.com/id/resep/10748090-4-telur-padang-mini\n",
      "Crawled https://cookpad.com/id/resep/10747647-gulai-putih-telur-dan-sayur-kol\n",
      "Next to https://cookpad.com/id/cari/masakan%20padang?page=5\n",
      "Scrapped 40 times\n",
      "Crawled https://cookpad.com/id/resep/10741454-ikan-patin-bumbu-balado\n",
      "Crawled https://cookpad.com/id/resep/10741577-194-gulai-jantung-pisang\n",
      "Crawled https://cookpad.com/id/resep/10742987-tahu-kuning-sambalado%F0%9F%8C%B6%F0%9F%8C%B6%F0%9F%8C%B6\n",
      "Crawled https://cookpad.com/id/resep/10740088-kentang-balado\n",
      "Crawled https://cookpad.com/id/resep/10740372-ikan-kembung-balado\n",
      "Crawled https://cookpad.com/id/resep/10740995-cumi-saus-padang\n",
      "Crawled https://cookpad.com/id/resep/10746818-rajungan-saos-padang\n",
      "Crawled https://cookpad.com/id/resep/10740539-gulai-telor-kacang-panjang\n",
      "Crawled https://cookpad.com/id/resep/10740062-gulai-daun-talas\n",
      "Crawled https://cookpad.com/id/resep/10741026-gulai-kepala-salmon\n",
      "Crawled https://cookpad.com/id/resep/10739926-balado-keripik-ikan\n",
      "Crawled https://cookpad.com/id/resep/10740541-tuna-dan-tahu-balado\n",
      "Crawled https://cookpad.com/id/resep/10747097-ayam-suwir-balado\n",
      "Crawled https://cookpad.com/id/resep/10740472-tempe-dan-cumi-balado\n",
      "Crawled https://cookpad.com/id/resep/10740985-gulai-campur-campur\n",
      "Crawled https://cookpad.com/id/resep/10740065-gulai-ikan-tongkol-panggang\n",
      "Crawled https://cookpad.com/id/resep/10746626-lele-goreng-bumbu-balado\n",
      "Crawled https://cookpad.com/id/resep/10746936-telur-dadar-padang\n",
      "Crawled https://cookpad.com/id/resep/10741981-rendang-telur-ayam-dan-telur-puyuh\n",
      "Crawled https://cookpad.com/id/resep/10697710-gulai-ayam-ala-kheray-yogyakarta\n",
      "Next to https://cookpad.com/id/cari/masakan%20padang?page=6\n",
      "Scrapped 60 times\n",
      "Crawled https://cookpad.com/id/resep/10735913-ayam-pop-bakar\n",
      "Crawled https://cookpad.com/id/resep/10735462-20-sayur-nangka-padang-resep-mamah\n",
      "Crawled https://cookpad.com/id/resep/10737617-balado-tongkol-tahu-tempe\n",
      "Crawled https://cookpad.com/id/resep/10540299-gulai-daging-terong\n",
      "Crawled https://cookpad.com/id/resep/10734900-rendang-sapi-bumbu-saba\n",
      "Crawled https://cookpad.com/id/resep/10734655-balado-terong-tempe-simple\n",
      "Crawled https://cookpad.com/id/resep/10733767-gulai-ayam-jengkol\n",
      "Crawled https://cookpad.com/id/resep/10734222-gulai-nangka\n",
      "Crawled https://cookpad.com/id/resep/10733445-terong-balado-kemangi\n",
      "Crawled https://cookpad.com/id/resep/10733923-balado-kentang-paprika\n",
      "Crawled https://cookpad.com/id/resep/10737211-telor-balado-bumbu-ulek\n",
      "Crawled https://cookpad.com/id/resep/10735392-telur-balado\n",
      "Crawled https://cookpad.com/id/resep/10734081-terong-balado\n",
      "Crawled https://cookpad.com/id/resep/10738439-gulai-keueung-ikan-layang\n",
      "Crawled https://cookpad.com/id/resep/10734719-cumi-asin-masak-balado\n",
      "Crawled https://cookpad.com/id/resep/10736802-udang-saus-padang\n",
      "Crawled https://cookpad.com/id/resep/10734131-terong-balado\n",
      "Crawled https://cookpad.com/id/resep/10733408-teri-vs-kacang-tanah-balado\n",
      "Crawled https://cookpad.com/id/resep/10734449-gulai-lele\n",
      "Crawled https://cookpad.com/id/resep/10734184-kepiting-saus-padang\n",
      "Next to https://cookpad.com/id/cari/masakan%20padang?page=7\n",
      "Scrapped 80 times\n",
      "Crawled https://cookpad.com/id/resep/10730383-ikan-asin-balado\n",
      "Crawled https://cookpad.com/id/resep/889000-tongkol-balado-bumbu-santan\n",
      "Crawled https://cookpad.com/id/resep/10721893-samba-lado-mudo%F0%9F%91%8D%F0%9F%91%8D%F0%9F%91%8D\n",
      "Crawled https://cookpad.com/id/resep/10729824-sambal-kentang-ikan-teri-balado\n",
      "Crawled https://cookpad.com/id/resep/10727598-kerang-tempe-balado-ala-mak-kalun\n",
      "Crawled https://cookpad.com/id/resep/10729601-bancakan-seafood-saos-padang-ala-ala-mommysvahomemade\n",
      "Crawled https://cookpad.com/id/resep/10730478-menu-diet-4-lauk-utk-maksi-balado-telur-puyuh-dan-tempe\n",
      "Crawled https://cookpad.com/id/resep/10726928-rendang\n",
      "Crawled https://cookpad.com/id/resep/10723124-balado-terong-dan-teri\n",
      "Crawled https://cookpad.com/id/resep/10733445-terong-balado-kemangi\n",
      "Crawled https://cookpad.com/id/resep/10728290-kerang-saos-padang\n",
      "Crawled https://cookpad.com/id/resep/10720565-telur-balado\n",
      "Crawled https://cookpad.com/id/resep/10721415-telor-balado\n",
      "Crawled https://cookpad.com/id/resep/10728111-gulai-ikan\n",
      "Crawled https://cookpad.com/id/resep/10573990-balado-ikan-asin-bulu-ayam\n",
      "Crawled https://cookpad.com/id/resep/10730311-belado-terong-ungu\n",
      "Crawled https://cookpad.com/id/resep/10733408-teri-vs-kacang-tanah-balado\n",
      "Crawled https://cookpad.com/id/resep/10727601-balado-telur\n",
      "Crawled https://cookpad.com/id/resep/10720549-gulai-ikan-tongkol-fiber-cream\n",
      "Crawled https://cookpad.com/id/resep/10729791-terong-balado\n",
      "Next to https://cookpad.com/id/cari/masakan%20padang?page=8\n",
      "Scrapped 100 times\n",
      "Crawled https://cookpad.com/id/resep/10722397-ayam-balado-cetarrr\n",
      "Crawled https://cookpad.com/id/resep/10726470-kangenkampung-ikan-cue-di-balado\n",
      "Crawled https://cookpad.com/id/resep/10718186-ikan-cuek-balado\n",
      "Crawled https://cookpad.com/id/resep/10722747-balado-telur-puyuh\n",
      "Crawled https://cookpad.com/id/resep/10722140-ayam-goreng-ala-nasi-padang\n",
      "Crawled https://cookpad.com/id/resep/10726605-dendeng-goreng-balado-pedas-ndower\n",
      "Crawled https://cookpad.com/id/resep/10718334-ayam-suwir-balado\n",
      "Crawled https://cookpad.com/id/resep/10717623-tahu-balado\n",
      "Crawled https://cookpad.com/id/resep/10726928-rendang\n",
      "Crawled https://cookpad.com/id/resep/10271588-rendang-daging-sapi-resep-warisan-turun-temurun\n",
      "Crawled https://cookpad.com/id/resep/10721415-telor-balado\n",
      "Crawled https://cookpad.com/id/resep/10721921-ayam-goreng-kremes-ala-rm-padang\n",
      "Crawled https://cookpad.com/id/resep/10620055-cah-caysim-telur-balado\n",
      "Crawled https://cookpad.com/id/resep/7764779-balado-terong\n",
      "Crawled https://cookpad.com/id/resep/10654188-sambal-lado-udang-puyuh\n",
      "Crawled https://cookpad.com/id/resep/10716344-kerang-saos-padang\n",
      "Crawled https://cookpad.com/id/resep/10718476-gulai-paku-khas-sibolga-tapanuli-tengah\n",
      "Crawled https://cookpad.com/id/resep/10724234-gulai-tahu-tauge-fiber-creme-praktis-dan-gurih-buat-bocah\n",
      "Crawled https://cookpad.com/id/resep/10724688-balado-udang-mix\n",
      "Crawled https://cookpad.com/id/resep/10721326-tongkol-balado\n",
      "Next to https://cookpad.com/id/cari/masakan%20padang?page=9\n",
      "Scrapped 120 times\n",
      "Crawled https://cookpad.com/id/resep/10716197-gulai-daun-singkong\n",
      "Crawled https://cookpad.com/id/resep/10714548-pete-terong-balado\n",
      "Crawled https://cookpad.com/id/resep/10711424-sambal-cumi-petai-balado\n",
      "Crawled https://cookpad.com/id/resep/10715901-gulai-sapi-tanpa-santan-84\n",
      "Crawled https://cookpad.com/id/resep/10718005-kerang-ijo-saus-padang-ala-ratih\n",
      "Crawled https://cookpad.com/id/resep/10717034-jengkol-balado-ikan-teri\n",
      "Crawled https://cookpad.com/id/resep/10716365-kering-kentang-balado\n",
      "Crawled https://cookpad.com/id/resep/10712986-terong-balado-sederhana\n",
      "Crawled https://cookpad.com/id/resep/10569927-kentang-goreng-balado\n",
      "Crawled https://cookpad.com/id/resep/10714516-terong-oncom-balado\n",
      "Crawled https://cookpad.com/id/resep/10711393-telur-ceplok-balado\n",
      "Crawled https://cookpad.com/id/resep/10712472-telur-balado\n",
      "Crawled https://cookpad.com/id/resep/10714156-terong-balado-teri-pete\n",
      "Crawled https://cookpad.com/id/resep/10716800-terong-telur-balado\n",
      "Crawled https://cookpad.com/id/resep/10715503-telor-balado\n"
     ]
    }
   ],
   "source": [
    "path = \"C:/Users/HaryoAW/Documents/Driver/selenium_gecko/geckodriver.exe\"\n",
    "start_webpage ='https://cookpad.com/id/cari/masakan%20padang?page=3'\n",
    "opt = SeleniumCrawlOption(file_output_path = '../data/scrapped/cookpad_selenium/', sleep_time = 1)\n",
    "crawler_cookpad = CookpadSeleniumCrawler(opt, driver_path = path, headless=False)\n",
    "crawler_cookpad.crawl(start_webpage)"
   ]
  },
  {
   "cell_type": "code",
   "execution_count": 35,
   "metadata": {},
   "outputs": [],
   "source": []
  },
  {
   "cell_type": "code",
   "execution_count": 13,
   "metadata": {},
   "outputs": [],
   "source": [
    "path = \"C:/Users/HaryoAW/Documents/Driver/selenium_gecko/geckodriver.exe\"\n",
    "start_webpage ='https://cookpad.com/id/cari/masakan%20padang?page=3'\n",
    "opt = SeleniumCrawlOption(file_output_path = '../data/scrapped/cookpad_selenium/', sleep_time = 2)\n",
    "crawler_cookpad = CookpadSeleniumCrawler(opt, driver_path = path, headless=False)"
   ]
  },
  {
   "cell_type": "code",
   "execution_count": 18,
   "metadata": {},
   "outputs": [],
   "source": [
    "crawler_cookpad.driver.get(start_webpage)"
   ]
  },
  {
   "cell_type": "code",
   "execution_count": 25,
   "metadata": {},
   "outputs": [],
   "source": [
    "elemnt = crawler_cookpad.driver.find_element_by_css_selector('html')"
   ]
  },
  {
   "cell_type": "code",
   "execution_count": 28,
   "metadata": {},
   "outputs": [],
   "source": [
    "from selenium.webdriver.common.action_chains import ActionChains"
   ]
  },
  {
   "cell_type": "code",
   "execution_count": 30,
   "metadata": {},
   "outputs": [],
   "source": [
    "test = ActionChains(crawler_cookpad.driver)"
   ]
  },
  {
   "cell_type": "code",
   "execution_count": 31,
   "metadata": {},
   "outputs": [],
   "source": [
    "test.click_and_hold(elemnt).perform()"
   ]
  },
  {
   "cell_type": "code",
   "execution_count": null,
   "metadata": {},
   "outputs": [],
   "source": [
    "pd.set_option('display.max_colwidth', 1000)"
   ]
  },
  {
   "cell_type": "code",
   "execution_count": 234,
   "metadata": {},
   "outputs": [],
   "source": [
    "driver = webdriver.Firefox(executable_path=path)"
   ]
  },
  {
   "cell_type": "code",
   "execution_count": 236,
   "metadata": {},
   "outputs": [],
   "source": [
    "driver.get(\"https://cookpad.com/id/cari/masakan%20indonesia?page=17\")"
   ]
  },
  {
   "cell_type": "code",
   "execution_count": 37,
   "metadata": {},
   "outputs": [],
   "source": [
    "crawler_cookpad = CookpadSeleniumCrawler(opt, driver_path = path, headless=False)\n",
    "crawler_cookpad.driver.get(\"https://cookpad.com/id/search_categories\")"
   ]
  },
  {
   "cell_type": "code",
   "execution_count": 46,
   "metadata": {},
   "outputs": [],
   "source": [
    "extract_url = crawler_cookpad.driver.find_elements_by_css_selector('.table-view__item a')"
   ]
  },
  {
   "cell_type": "code",
   "execution_count": 48,
   "metadata": {},
   "outputs": [],
   "source": [
    "link_todo = list(map(lambda x : x.get_attribute('href'),extract_url))"
   ]
  },
  {
   "cell_type": "code",
   "execution_count": null,
   "metadata": {},
   "outputs": [],
   "source": [
    "for link in link_todo:\n",
    "    try:\n",
    "        path = \"C:/Users/HaryoAW/Documents/Driver/selenium_gecko/geckodriver.exe\"\n",
    "        start_webpage = link\n",
    "        opt = SeleniumCrawlOption(file_output_path = '../data/scrapped/cookpad_selenium/', sleep_time = 2.8)\n",
    "        crawler_cookpad = CookpadSeleniumCrawler(opt, driver_path = path, headless=False)\n",
    "    except:\n",
    "        print(\"go to next link\")"
   ]
  }
 ],
 "metadata": {
  "kernelspec": {
   "display_name": "Python 3",
   "language": "python",
   "name": "python3"
  },
  "language_info": {
   "codemirror_mode": {
    "name": "ipython",
    "version": 3
   },
   "file_extension": ".py",
   "mimetype": "text/x-python",
   "name": "python",
   "nbconvert_exporter": "python",
   "pygments_lexer": "ipython3",
   "version": "3.7.4"
  }
 },
 "nbformat": 4,
 "nbformat_minor": 4
}
